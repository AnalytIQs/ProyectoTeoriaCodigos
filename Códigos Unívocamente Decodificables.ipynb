{
 "cells": [
  {
   "cell_type": "markdown",
   "metadata": {},
   "source": [
    "# Códigos Unívocamente Decodificables\n",
    "---\n",
    " \n",
    "**Teorema de Sardinas-Patterson.**\n",
    "Un código $C$ es unívocamente decodificable, si y sólo si los conjuntos $C$ y $C_{\\infty}$ son disyuntos.\n",
    "\n",
    "\n"
   ]
  },
  {
   "cell_type": "code",
   "execution_count": 66,
   "metadata": {},
   "outputs": [],
   "source": [
    "def join_lists(list1, list2): \n",
    "    list3 = list()\n",
    "    for el in list1: \n",
    "        list3.append(el)\n",
    "    for el in list2: \n",
    "        if el not in list3: \n",
    "            list3.append(el)\n",
    "    return list3\n",
    "\n",
    "def intersect_code_and_cns(code, cn_sets):\n",
    "    intersection = list()\n",
    "    all_cn_elements = list()\n",
    "    \n",
    "    for cn_set in cn_sets: \n",
    "        for element in cn_set:\n",
    "            if element not in all_cn_elements: \n",
    "                all_cn_elements.append(element)\n",
    "    print(\"C_infty: \", all_cn_elements)\n",
    "    \n",
    "    for c in code: \n",
    "        if c in all_cn_elements:\n",
    "            intersection.append(c)\n",
    "    return intersection\n",
    "        \n",
    "def compute_cn_elements(set1, set2):\n",
    "    elements = list()\n",
    "    u_strings = set1\n",
    "    v_strings = set2\n",
    "\n",
    "    for u in u_strings: \n",
    "        for v in v_strings:\n",
    "            if v.startswith(u) and len(v) > len(u):\n",
    "                if v[len(u):] not in elements: \n",
    "                    elements.append(v[len(u):])\n",
    "    return elements\n",
    "                \n",
    "def compute_all_sets(code):\n",
    "    cn = code.copy()\n",
    "    sets = list()\n",
    "    counter = 0\n",
    "    \n",
    "    print(\"C_0:\", code)\n",
    "    \n",
    "    while len(cn) > 0:\n",
    "        part1 = compute_cn_elements(code, cn)\n",
    "        part2 = compute_cn_elements(cn, code)\n",
    "        cn = join_lists(part1, part2)\n",
    "        \n",
    "        if cn in sets: \n",
    "            break\n",
    "        \n",
    "        if len(cn) > 0:\n",
    "            sets.append(cn)\n",
    "            print(\"C_\" + str(counter + 1) + \":\", cn)\n",
    "        counter += 1\n",
    "            \n",
    "    return sets\n",
    "\n",
    "def is_code_uniquely_decodable(code): \n",
    "    cn_sets = compute_all_sets(code)\n",
    "    intersection = intersect_code_and_cns(code, cn_sets)\n",
    "    \n",
    "    #print(code)\n",
    "    #print(cn_sets)\n",
    "    print(\"Intersection: \", intersection)\n",
    "    \n",
    "    if len(intersection) > 0: \n",
    "        return False\n",
    "    return True"
   ]
  },
  {
   "cell_type": "code",
   "execution_count": 67,
   "metadata": {},
   "outputs": [
    {
     "name": "stdout",
     "output_type": "stream",
     "text": [
      "C_0: ['02', '12']\n",
      "C_infty:  []\n",
      "Intersection:  []\n"
     ]
    },
    {
     "data": {
      "text/plain": [
       "True"
      ]
     },
     "execution_count": 67,
     "metadata": {},
     "output_type": "execute_result"
    }
   ],
   "source": [
    "code = [\"01\", \"00\", \"11\"]\n",
    "code = [\"01\", \"1\", \"2\", \"210\"]\n",
    "code = [\"02\", \"12\", ]\n",
    "\n",
    "is_code_uniquely_decodable(code)"
   ]
  },
  {
   "cell_type": "markdown",
   "metadata": {},
   "source": [
    "### Exercise 1.3"
   ]
  },
  {
   "cell_type": "code",
   "execution_count": 68,
   "metadata": {
    "scrolled": false
   },
   "outputs": [
    {
     "name": "stdout",
     "output_type": "stream",
     "text": [
      "C_0: ['02', '12', '120', '20', '21']\n",
      "C_1: ['0']\n",
      "C_2: ['2']\n",
      "C_3: ['0', '1']\n",
      "C_4: ['2', '20']\n",
      "C_infty:  ['0', '2', '1', '20']\n",
      "Intersection:  ['20']\n"
     ]
    },
    {
     "data": {
      "text/plain": [
       "False"
      ]
     },
     "execution_count": 68,
     "metadata": {},
     "output_type": "execute_result"
    }
   ],
   "source": [
    "code = [\"02\", \"12\", \"120\", \"20\", \"21\"]\n",
    "is_code_uniquely_decodable(code)"
   ]
  },
  {
   "cell_type": "code",
   "execution_count": 70,
   "metadata": {},
   "outputs": [
    {
     "name": "stdout",
     "output_type": "stream",
     "text": [
      "C_0: ['02', '12', '120', '21']\n",
      "C_1: ['0']\n",
      "C_2: ['2']\n",
      "C_3: ['1']\n",
      "C_4: ['2', '20']\n",
      "C_infty:  ['0', '2', '1', '20']\n",
      "Intersection:  []\n"
     ]
    },
    {
     "data": {
      "text/plain": [
       "True"
      ]
     },
     "execution_count": 70,
     "metadata": {},
     "output_type": "execute_result"
    }
   ],
   "source": [
    "code = [\"02\", \"12\", \"120\", \"21\"]\n",
    "is_code_uniquely_decodable(code)"
   ]
  },
  {
   "cell_type": "markdown",
   "metadata": {},
   "source": [
    "### Exercise 1.8"
   ]
  },
  {
   "cell_type": "code",
   "execution_count": 69,
   "metadata": {},
   "outputs": [
    {
     "name": "stdout",
     "output_type": "stream",
     "text": [
      "C_0: ['0', '01', '011', '111']\n",
      "C_1: ['1', '11']\n",
      "C_2: ['11', '1']\n",
      "C_infty:  ['1', '11']\n",
      "Intersection:  []\n"
     ]
    },
    {
     "data": {
      "text/plain": [
       "True"
      ]
     },
     "execution_count": 69,
     "metadata": {},
     "output_type": "execute_result"
    }
   ],
   "source": [
    "code = [\"0\", \"01\", \"011\", \"111\"]\n",
    "is_code_uniquely_decodable(code)"
   ]
  },
  {
   "cell_type": "code",
   "execution_count": 59,
   "metadata": {},
   "outputs": [
    {
     "name": "stdout",
     "output_type": "stream",
     "text": [
      "C_1: ['0', '10', '110', '111']\n",
      "Intersection:  []\n"
     ]
    },
    {
     "data": {
      "text/plain": [
       "True"
      ]
     },
     "execution_count": 59,
     "metadata": {},
     "output_type": "execute_result"
    }
   ],
   "source": [
    "code = [\"0\", \"10\", \"110\", \"111\"]\n",
    "is_code_uniquely_decodable(code)"
   ]
  },
  {
   "cell_type": "code",
   "execution_count": null,
   "metadata": {},
   "outputs": [],
   "source": []
  },
  {
   "cell_type": "code",
   "execution_count": null,
   "metadata": {},
   "outputs": [],
   "source": []
  },
  {
   "cell_type": "code",
   "execution_count": 19,
   "metadata": {},
   "outputs": [],
   "source": [
    "code = [\"0\", \"01\", \"011\"]\n",
    "code = [\"01\", \"1\", \"2\", \"210\"]\n",
    "\n",
    "print(code)\n",
    "compute_all_sets(code)"
   ]
  },
  {
   "cell_type": "code",
   "execution_count": null,
   "metadata": {},
   "outputs": [],
   "source": []
  },
  {
   "cell_type": "code",
   "execution_count": 2,
   "metadata": {},
   "outputs": [
    {
     "name": "stdout",
     "output_type": "stream",
     "text": [
      "[1, 2, 3]\n"
     ]
    }
   ],
   "source": [
    "code_is_uniquely_decodable([\"0\", \"01\", \"011\"])"
   ]
  },
  {
   "cell_type": "code",
   "execution_count": null,
   "metadata": {},
   "outputs": [],
   "source": [
    "text.startswith()"
   ]
  }
 ],
 "metadata": {
  "kernelspec": {
   "display_name": "Python 3",
   "language": "python",
   "name": "python3"
  },
  "language_info": {
   "codemirror_mode": {
    "name": "ipython",
    "version": 3
   },
   "file_extension": ".py",
   "mimetype": "text/x-python",
   "name": "python",
   "nbconvert_exporter": "python",
   "pygments_lexer": "ipython3",
   "version": "3.7.3"
  }
 },
 "nbformat": 4,
 "nbformat_minor": 2
}
